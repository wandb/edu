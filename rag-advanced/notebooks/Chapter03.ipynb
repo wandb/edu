{
 "cells": [
  {
   "cell_type": "markdown",
   "metadata": {},
   "source": [
    "# Chapter 3 \n",
    "\n",
    "<a target=\"_blank\" href=\"https://colab.research.google.com/github/wandb/edu/blob/rag-finance-workshop/rag-advanced/notebooks/Chapter03.ipynb\">\n",
    "  <img src=\"https://colab.research.google.com/assets/colab-badge.svg\" alt=\"Open In Colab\"/>\n",
    "</a>\n",
    "\n",
    "<!--- @wandbcode{rag-course-03} -->\n",
    "\n",
    "## Data Ingestion and Preprocessing\n",
    "\n",
    "At its core, RAG (Retrieval-Augmented Generation) is a method for integrating private data with pre-trained, instruction-tuned language models. The effectiveness of your RAG system is directly proportional to the quality of your data ingestion pipeline.\n",
    "\n",
    "Data ingestion encompasses both data sources and preprocessing. As with most machine learning systems, the principle of \"garbage in, garbage out\" applies to LLMs. Therefore, optimizing your data ingestion pipeline is crucial for RAG efficacy.\n",
    "\n",
    "Key considerations for efficient data ingestion:\n",
    "1. Periodic updates: Implement a system that can seamlessly update when data sources change.\n",
    "2. Quality control: Ensure data cleanliness and relevance.\n",
    "3. Scalability: Design the pipeline to handle increasing data volumes.\n",
    "\n",
    "\n",
    "**Tip**: When building your data ingestion pipeline, start with a small, representative sample of your data. This allows you to quickly iterate on your preprocessing steps and catch potential issues early. Focus on creating an end-to-end working system before optimizing specific components like chunk size, parsing strategies, or data formats (e.g., markdown, HTML, plain text).\n",
    "\n",
    "\n",
    "To begin, execute the following cell to clone the repository and install dependencies:"
   ]
  },
  {
   "cell_type": "code",
   "execution_count": null,
   "metadata": {},
   "outputs": [],
   "source": [
    "try:\n",
    "    import google.colab\n",
    "    IN_COLAB = True\n",
    "except ImportError:\n",
    "    IN_COLAB = False\n",
    "\n",
    "if IN_COLAB:\n",
    "    !git clone --branch rag-finance-workshop https://github.com/wandb/edu.git\n",
    "    %cd edu/rag-advanced\n",
    "    !pip install -qqq -r requirements.txt\n",
    "    %cd notebooks\n",
    "else:\n",
    "    print(\"Not running in Google Colab. Skipping git clone and pip install commands.\")"
   ]
  },
  {
   "cell_type": "code",
   "execution_count": null,
   "metadata": {},
   "outputs": [],
   "source": [
    "import nltk\n",
    "\n",
    "nltk.download(\"wordnet\")\n",
    "nltk.download(\"punkt\")"
   ]
  },
  {
   "cell_type": "markdown",
   "metadata": {},
   "source": [
    "With the setup complete, we can now proceed with the chapter content.\n",
    "\n",
    "Initial steps:\n",
    "1. Log in to Weights & Biases (W&B)\n",
    "2. Configure environment variables for API access\n",
    "\n",
    "To obtain your Cohere API key, visit the [Cohere API dashboard](https://dashboard.cohere.com/api-keys)."
   ]
  },
  {
   "cell_type": "code",
   "execution_count": null,
   "metadata": {},
   "outputs": [],
   "source": [
    "from set_env import set_env\n",
    "\n",
    "set_env(\"WANDB_API_KEY\")\n",
    "set_env(\"OPENAI_API_KEY\")\n",
    "print(\"API keys set\")"
   ]
  },
  {
   "cell_type": "code",
   "execution_count": null,
   "metadata": {},
   "outputs": [],
   "source": [
    "import asyncio\n",
    "\n",
    "import nest_asyncio\n",
    "\n",
    "nest_asyncio.apply()\n",
    "import numpy as np\n",
    "import weave\n",
    "\n",
    "from scripts.utils import display_source"
   ]
  },
  {
   "cell_type": "code",
   "execution_count": null,
   "metadata": {},
   "outputs": [],
   "source": [
    "WANDB_PROJECT = \"rag-course-finance\"\n",
    "\n",
    "weave_client = weave.init(WANDB_PROJECT)"
   ]
  },
  {
   "cell_type": "markdown",
   "metadata": {},
   "source": [
    "**Best Practice**: Document your data preprocessing steps meticulously. This not only helps with reproducibility but also makes it easier to debug issues and optimize your pipeline later."
   ]
  },
  {
   "cell_type": "markdown",
   "metadata": {},
   "source": [
    "## Data Preparation\n",
    "\n",
    "We'll begin our journey with raw data processing. \n",
    "\n",
    "Our first step is to retrieve the most recent `raw_data` we logged into weave. We had logged this in Chapter 1 and we will use the same dataset as our starting point."
   ]
  },
  {
   "cell_type": "code",
   "execution_count": null,
   "metadata": {},
   "outputs": [],
   "source": [
    "raw_data = weave.ref(\"raw_data:latest\").get()\n",
    "\n",
    "# this is how we index into the data\n",
    "print(raw_data.rows[:2])\n",
    "raw_data = list(map(dict, raw_data.rows[:]))"
   ]
  },
  {
   "cell_type": "markdown",
   "metadata": {},
   "source": [
    "In chapter 1, we naively counted each word (as they appear in English text) as one token (`raw_tokens`). Now let's update to using the correct token counting strategy (`tokens`).\n",
    "\n",
    "\n",
    "We will use [Cohere's tokenizer](https://docs.cohere.com/docs/tokens-and-tokenizers) to calculate the accurate number of tokens per document in our `raw_data`. Both the correct token count and word count will be stored as metadata for each document.\n",
    "\n",
    "\n",
    "In RAG systems, accurate tokenization is crucial for proper text processing and context management. Let's examine two key functions: `tokenize_text` and `length_function`.\n",
    "\n",
    "**The `tokenize_text` Function**: This function tokenizes input text using Cohere's tokenization API. Here's how it works:\n",
    "\n",
    "1. It initializes a LiteLLM client using an API key stored in environment variables.\n",
    "2. It calls the `tokenize` method of the LiteLLM client, passing:\n",
    "   - The input `text`\n",
    "   - The specified `model` (defaulting to \"gpt-4o-mini\")\n",
    "   - `offline=True` to use a locally cached tokenizer for efficiency\n",
    "\n",
    "The function returns a list of tokens, which are subword units that the model uses to process text.\n",
    "\n",
    "**The `length_function`**: This function calculates the number of tokens in a given text. It operates as follows:\n",
    "\n",
    "1. It calls `tokenize_text` to convert the input `text` into tokens.\n",
    "2. It returns the length of the resulting token list.\n",
    "\n",
    "Understanding the token count is essential because:\n",
    "- It helps determine if a text fits within a model's context window.\n",
    "- It allows for more accurate text chunking and processing in the RAG pipeline.\n",
    "- It provides a basis for estimating computational costs, as many API pricing models are based on token count.\n",
    "\n",
    "By using these functions, we ensure consistent and accurate tokenization throughout our RAG system, which is critical for retrieval accuracy and overall performance."
   ]
  },
  {
   "cell_type": "code",
   "execution_count": null,
   "metadata": {},
   "outputs": [],
   "source": [
    "from scripts.utils import (\n",
    "    TOKENIZERS,\n",
    "    get_special_tokens_set,\n",
    "    length_function,\n",
    "    tokenize_text,\n",
    ")\n",
    "\n",
    "# this is the function that will tokenize the text\n",
    "display_source(tokenize_text)\n",
    "# this is the function that calculates the number of tokens\n",
    "display_source(length_function)"
   ]
  },
  {
   "cell_type": "code",
   "execution_count": null,
   "metadata": {},
   "outputs": [],
   "source": [
    "for doc in raw_data[:]:\n",
    "    doc[\"metadata\"][\"words\"] = doc[\"metadata\"].pop(\"raw_tokens\")\n",
    "    doc[\"metadata\"][\"tokens\"] = length_function(doc[\"content\"])\n",
    "raw_data[:2]"
   ]
  },
  {
   "cell_type": "markdown",
   "metadata": {},
   "source": [
    "As you can see above, the `words` count (used in Chapter 1) is quite different from the actual `tokens` count. This discrepancy highlights the importance of accurate token counting in RAG systems. Knowing the correct number of tokens is crucial for several reasons:\n",
    "\n",
    "1. It helps decide whether to build a RAG pipeline or ingest the whole document into an LLM, especially now that many top LLMs support long context windows.\n",
    "2. It informs the optimal chunk size for efficient processing.\n",
    "3. It ensures efficient use of context windows and helps manage costs associated with token-based API calls.\n",
    "4. It aids in predicting and controlling response generation length, which is vital for maintaining coherent and relevant outputs.\n",
    "\n",
    "By accurately counting tokens, we can make informed decisions about our RAG system's architecture and optimize its performance and cost-effectiveness.\n",
    "\n",
    "**Tip**: Different tokenizers may produce slightly different results. Always use the same tokenizer that your target LLM uses to ensure consistency between preprocessing and model input."
   ]
  },
  {
   "cell_type": "markdown",
   "metadata": {},
   "source": [
    "## Preprocessing\n",
    "\n",
    "Now that we have our raw data prepared and correctly tokenized, the next crucial step is to pre-process this data. Preprocessing is essential for removing extraneous information and formatting that could interfere with our language model's understanding of the content.\n",
    "\n",
    "In this section, we'll focus on cleaning our data by removing markdown elements, special characters, and extra whitespace. This process will help streamline our text for more effective tokenization and ultimately improve the performance of our RAG system.\n",
    "\n",
    "\n",
    "Raw data often contains extra formatting information (like markdown elements) that, while useful for human readers, is not beneficial for LLMs. Removing these elements, along with special characters and extra whitespace, is essential in RAG preprocessing for several reasons:\n",
    "\n",
    "1. It eliminates noise and irrelevant information that could confuse the LLM.\n",
    "2. It ensures the model focuses solely on the content's semantic meaning.\n",
    "3. It standardizes input across various document types, creating a consistent format for the LLM.\n",
    "4. It can improve retrieval accuracy and response generation quality.\n",
    "\n",
    "To achieve this, we use two key functions:\n",
    "\n",
    "1. `convert_contents_to_text`: This function converts raw markdown to HTML, then uses BeautifulSoup to remove image links, images, and other formatting information.\n",
    "2. `make_text_tokenization_safe`: This function removes any special tokens present in the text. Special characters here are those defined in the tokenizer and may vary depending on the model used.\n",
    "\n",
    "By applying these preprocessing steps, we create clean, standardized input that's optimized for our LLM pipeline."
   ]
  },
  {
   "cell_type": "markdown",
   "metadata": {},
   "source": [
    "**Best Practice**: When cleaning text data, be cautious about removing too much information. While it's important to remove noise, overzealous cleaning might inadvertently remove context that could be valuable for the LLM."
   ]
  },
  {
   "cell_type": "code",
   "execution_count": null,
   "metadata": {},
   "outputs": [],
   "source": [
    "from scripts.preprocess import convert_contents_to_text, make_text_tokenization_safe\n",
    "\n",
    "# this is the function that converts the markdown to html\n",
    "display_source(convert_contents_to_text)\n",
    "# this is the function that cleans the text\n",
    "display_source(make_text_tokenization_safe)"
   ]
  },
  {
   "cell_type": "markdown",
   "metadata": {},
   "source": [
    "We are converting the raw markdown documents to text and making them tokenization-safe. This process involves removing special tokens that could interfere with the tokenization process. Let's examine the first 5 special tokens to understand what's being removed.\n",
    "\n",
    "After processing, you'll notice that the `parsed_tokens` count is smaller compared to the original `tokens` count. This reduction is expected and indicates that we've successfully removed extraneous formatting and special characters, resulting in a cleaner text representation that's more suitable for our LLM pipeline.\n",
    "\n",
    "This step is crucial for ensuring that our input data is optimized for tokenization and subsequent processing by the language model."
   ]
  },
  {
   "cell_type": "code",
   "execution_count": null,
   "metadata": {},
   "outputs": [],
   "source": [
    "special_tokens_set = get_special_tokens_set(TOKENIZERS[\"command-r\"])\n",
    "print(list(special_tokens_set)[:5])\n",
    "\n",
    "parsed_data = []\n",
    "\n",
    "for doc in raw_data:\n",
    "    parsed_doc = doc.copy()\n",
    "    content = convert_contents_to_text(doc[\"content\"])\n",
    "    parsed_doc[\"parsed_content\"] = make_text_tokenization_safe(\n",
    "        content, special_tokens_set=special_tokens_set\n",
    "    )\n",
    "    parsed_doc[\"metadata\"][\"parsed_tokens\"] = length_function(\n",
    "        parsed_doc[\"parsed_content\"]\n",
    "    )\n",
    "    parsed_data.append(parsed_doc)\n",
    "parsed_data[:2]"
   ]
  },
  {
   "cell_type": "markdown",
   "metadata": {},
   "source": [
    "Again, we can store the parsed data as a Weave dataset"
   ]
  },
  {
   "cell_type": "code",
   "execution_count": null,
   "metadata": {},
   "outputs": [],
   "source": [
    "# build weave dataset\n",
    "parsed_data = weave.Dataset(name=\"parsed_data\", rows=parsed_data)\n",
    "\n",
    "# publish the dataset\n",
    "weave.publish(parsed_data)"
   ]
  },
  {
   "cell_type": "markdown",
   "metadata": {},
   "source": [
    "## Data Chunking\n",
    "\n",
    "With our data cleaned and pre-processed, we're ready to move on to the next critical step: chunking. Chunking involves breaking down our processed documents into smaller, manageable pieces. This step is crucial for several reasons:\n",
    "\n",
    "1. It allows us to retrieve more relevant information\n",
    "2. It helps manage token limits in language models\n",
    "3. It can improve the overall efficiency of our RAG system\n",
    "\n",
    "In this section, we'll explore different chunking strategies and implement a semantic chunking approach, which aims to preserve the context and meaning of our text while splitting it into appropriate segments.\n",
    "\n",
    "We can split the processed data into smaller chunks. This approach serves two purposes:\n",
    "1. Reduce input token cost by sending only the required data for generation.\n",
    "2. Limit context to ensure the LLM focuses on relevant details.\n",
    "\n",
    "While sending the entire document to the LLM is possible, it depends on the total token count and the nature of your use case. This approach can be costlier but is a good starting point.\n",
    "\n",
    "### Semantic Chunking\n",
    "\n",
    "Various chunking strategies exist, such as splitting after n words/tokens or on headers. It's advisable to experiment with these simple strategies before moving to more sophisticated ones.\n",
    "\n",
    "Below, we implement semantic chunking, a sophisticated strategy that has proven effective in practice. This method groups similar sentences into chunks:\n",
    "\n",
    "1. Split the text into sentences using the [BlingFire](https://github.com/microsoft/BlingFire) library.\n",
    "2. Group and combine chunks based on semantic similarity.\n",
    "\n",
    "\n",
    "Semantic chunking offers key advantages over simpler methods like fixed-length splitting:\n",
    "\n",
    "1. **Improved Relevance**: Groups related sentences, increasing the likelihood of retrieving complete, relevant information.\n",
    "2. **Context Preservation**: Maintains logical flow within chunks, crucial for accurate LLM understanding and generation.\n",
    "3. **Adaptive Segmentation**: Creates variable-length chunks that better represent the text's natural structure and content organization.\n",
    "\n",
    "By keeping related information together, semantic chunking optimizes retrieval accuracy and enhances the RAG system's ability to provide contextually appropriate responses.\n",
    "\n",
    "For more information on the chunking strategy used, refer to this [research article on evaluating chunking](https://research.trychroma.com/evaluating-chunking)."
   ]
  },
  {
   "cell_type": "code",
   "execution_count": null,
   "metadata": {},
   "outputs": [],
   "source": [
    "parsed_data = weave.ref(\"parsed_data:latest\").get()\n",
    "\n",
    "# this is how we index into the data\n",
    "print(parsed_data.rows[:2])\n",
    "\n",
    "parsed_data = list(map(dict, parsed_data.rows[:]))\n",
    "parsed_data[:2]"
   ]
  },
  {
   "cell_type": "code",
   "execution_count": null,
   "metadata": {},
   "outputs": [],
   "source": [
    "from scripts.chunking import chunk_documents\n",
    "\n",
    "# this is the function that chunks the documents\n",
    "display_source(chunk_documents)"
   ]
  },
  {
   "cell_type": "markdown",
   "metadata": {},
   "source": [
    "Since we are doing semantic chunking, the chunking process can take a while. For now, let's just take the first 5 documents and chunk them."
   ]
  },
  {
   "cell_type": "code",
   "execution_count": null,
   "metadata": {},
   "outputs": [],
   "source": [
    "sample_chunked_data = chunk_documents(parsed_data[:5])\n",
    "sample_chunked_data[:2]"
   ]
  },
  {
   "cell_type": "markdown",
   "metadata": {},
   "source": [
    "For the rest of the data, we'll retrieve the chunked data from weave."
   ]
  },
  {
   "cell_type": "code",
   "execution_count": null,
   "metadata": {},
   "outputs": [],
   "source": [
    "# fetch the chunked data\n",
    "chunked_data = weave.ref(\"chunked_data:latest\").get()\n",
    "\n",
    "# this is how we index into the data\n",
    "print(chunked_data.rows[:2])\n",
    "\n",
    "chunked_data = list(map(dict, chunked_data.rows[:]))"
   ]
  },
  {
   "cell_type": "markdown",
   "metadata": {},
   "source": [
    "**Tip**: Experiment with different chunking strategies and sizes. The optimal approach often depends on your specific use case and the nature of your documents. Monitor how changes in chunking affect both retrieval accuracy and LLM performance."
   ]
  },
  {
   "cell_type": "markdown",
   "metadata": {},
   "source": [
    "## Exploring Alternative Retrieval Methods\n",
    "\n",
    "Now that we have our data prepared, pre-processed, and chunked, it's time to focus on how we retrieve this information. While we've previously used TF-IDF as our baseline retrieval method, it's important to explore alternatives that might offer improved performance.\n",
    "\n",
    "In this section, we'll introduce the BM25 (Best Matching 25) retriever, a more sophisticated approach to information retrieval. BM25 is an evolution of TF-IDF that addresses some of its limitations. While TF-IDF simply weighs term frequency against document frequency, BM25 incorporates document length normalization and term frequency saturation. This means BM25 can better handle varying document lengths and prevents common terms from dominating the relevance score. As a result, BM25 often provides more nuanced rankings, especially for longer documents or queries with multiple terms.\n",
    "\n",
    "By comparing the performance of BM25 against our existing TF-IDF retriever, we can gain valuable insights into:\n",
    "\n",
    "1. The strengths and weaknesses of different retrieval algorithms in our specific use case\n",
    "2. The impact of more sophisticated ranking functions on RAG performance\n",
    "3. Potential areas for further optimization in our retrieval pipeline\n",
    "\n",
    "In our RAG pipeline, this could lead to more contextually relevant retrievals, potentially improving the quality of the generated responses. Let's implement the BM25 retriever and set up a comparative analysis with our TF-IDF baseline:"
   ]
  },
  {
   "cell_type": "code",
   "execution_count": null,
   "metadata": {},
   "outputs": [],
   "source": [
    "from scripts.rag_pipeline import SimpleRAGPipeline\n",
    "from scripts.response_generator import SimpleResponseGenerator\n",
    "from scripts.retriever import BM25Retriever, TFIDFRetriever\n",
    "\n",
    "display_source(BM25Retriever)"
   ]
  },
  {
   "cell_type": "code",
   "execution_count": null,
   "metadata": {},
   "outputs": [],
   "source": [
    "bm25_retriever = BM25Retriever()\n",
    "bm25_retriever.index_data(chunked_data)\n",
    "\n",
    "tfidf_retriever = TFIDFRetriever()\n",
    "tfidf_retriever.index_data(chunked_data)"
   ]
  },
  {
   "cell_type": "markdown",
   "metadata": {},
   "source": [
    "The rest of the RAG pipeline remains unchanged. We'll use the same response generator and overall structure as before, allowing us to isolate the impact of our new retrieval method. This approach ensures a fair comparison between the TF-IDF and BM25 retrievers within our existing framework."
   ]
  },
  {
   "cell_type": "code",
   "execution_count": null,
   "metadata": {},
   "outputs": [],
   "source": [
    "INITIAL_PROMPT = open(\"prompts/initial_system.txt\", \"r\").read()\n",
    "response_generator = SimpleResponseGenerator(model=\"gpt-4o-mini\", prompt=INITIAL_PROMPT)\n",
    "bm25_rag_pipeline = SimpleRAGPipeline(\n",
    "    retriever=bm25_retriever, response_generator=response_generator, top_k=5\n",
    ")\n",
    "tfidf_rag_pipeline = SimpleRAGPipeline(\n",
    "    retriever=tfidf_retriever, response_generator=response_generator, top_k=5\n",
    ")"
   ]
  },
  {
   "cell_type": "markdown",
   "metadata": {},
   "source": [
    "## Evaluate and compare the changes\n",
    "\n",
    "With our new retrieval method implemented, it's crucial to evaluate its performance and compare it to our baseline. This evaluation will help us understand the impact of our changes and determine whether the BM25 retriever offers improvements over the TF-IDF method.\n",
    "\n",
    "In this section, we'll use the evaluation dataset and metrics from Chapter 2 to assess both the retrieval performance and the overall RAG pipeline performance with each retriever. This comprehensive evaluation will provide valuable insights into the effectiveness of our improvements.\n",
    "\n",
    "\n",
    "We are primarily interested in two aspects:\n",
    "1. The impact of preprocessing on retrieval metrics\n",
    "2. The effect of different retrieval methods on response metrics\n",
    "\n",
    "To address these points, we will evaluate:\n",
    "1. Retrieval metrics for both TF-IDF and BM25 retrievers\n",
    "2. Response metrics for the RAG pipeline using both retrievers\n",
    "\n",
    "This comprehensive evaluation will provide insights into the performance of individual retrieval methods and the overall RAG pipeline.\n",
    "\n",
    "We'll begin by fetching the evaluation dataset and metrics used in Chapter 2. Using Weave, we'll retrieve the dataset and metrics, then run the evaluation using [Weave Evaluations](https://weave-docs.wandb.ai/guides/core-types/evaluations/)."
   ]
  },
  {
   "cell_type": "code",
   "execution_count": null,
   "metadata": {},
   "outputs": [],
   "source": [
    "from scripts.response_metrics import ALL_METRICS as RESPONSE_METRICS\n",
    "from scripts.retrieval_metrics import ALL_METRICS as RETRIEVAL_METRICS"
   ]
  },
  {
   "cell_type": "code",
   "execution_count": null,
   "metadata": {},
   "outputs": [],
   "source": [
    "# eval_dataset = weave.ref(\n",
    "#     \"eval_data:latest\"\n",
    "# ).get()\n",
    "eval_dataset = weave.ref(\"weave:///a-sh0ts/rag-course-finance/object/eval_data:CoQDvdOENbZqkwg7IlhZm33drBCAf9OUNvf8ar6YHzM\").get()\n",
    "\n",
    "print(\"Number of evaluation samples: \", len(eval_dataset.rows))"
   ]
  },
  {
   "cell_type": "code",
   "execution_count": null,
   "metadata": {},
   "outputs": [],
   "source": [
    "retrieval_evaluation = weave.Evaluation(\n",
    "    name=\"Retrieval_Evaluation\",\n",
    "    dataset=eval_dataset,\n",
    "    scorers=RETRIEVAL_METRICS,\n",
    "    preprocess_model_input=lambda x: {\"query\": x[\"question\"], \"k\": 5},\n",
    ")\n",
    "bm25_retrieval_scores = asyncio.run(retrieval_evaluation.evaluate(bm25_retriever))\n",
    "tfidf_retrieval_scores = asyncio.run(retrieval_evaluation.evaluate(tfidf_retriever))"
   ]
  },
  {
   "cell_type": "markdown",
   "metadata": {},
   "source": [
    "![compare_retrievers](../images/03_compare_retrievers.png)"
   ]
  },
  {
   "cell_type": "markdown",
   "metadata": {},
   "source": [
    "BM25 outperforms TFIDF in most relevance metrics:\n",
    "- Higher MAP, NDCG, and MRR indicate better ranking and relevance.\n",
    "- Improved precision and recall suggest a better balance in retrieving relevant documents.\n",
    "- Slightly better hit rate.\n",
    "\n",
    "TFIDF advantages:\n",
    "- Significantly lower latency, beneficial for time-sensitive applications.\n",
    "\n",
    "Trade-offs:\n",
    "- BM25 offers superior retrieval performance at the cost of higher latency.\n",
    "- TFIDF is faster but generally less accurate in retrieval."
   ]
  },
  {
   "cell_type": "code",
   "execution_count": null,
   "metadata": {},
   "outputs": [],
   "source": [
    "response_evaluations = weave.Evaluation(\n",
    "    name=\"Response_Evaluation\",\n",
    "    dataset=eval_dataset,\n",
    "    scorers=RESPONSE_METRICS,\n",
    "    preprocess_model_input=lambda x: {\"query\": x[\"question\"]},\n",
    ")\n",
    "bm25_response_scores = asyncio.run(response_evaluations.evaluate(bm25_rag_pipeline))\n",
    "tfidf_response_scores = asyncio.run(response_evaluations.evaluate(tfidf_rag_pipeline))"
   ]
  },
  {
   "cell_type": "markdown",
   "metadata": {},
   "source": [
    "![compare_retriever_responses](../images/03_compare_retriever_responses.png)"
   ]
  },
  {
   "cell_type": "markdown",
   "metadata": {},
   "source": [
    "Again BM25 retriever outperforms TFIDF across most response metrics (ROUGE, BLEU, Correctness, Response Score), leading to more relevant and accurate responses.\n",
    "\n",
    "- Slightly better ROUGE and BLEU scores indicate more overlap with reference responses.\n",
    "- Higher LLM Response Scorer results suggest more accurate and coherent responses.\n",
    "- Marginally higher Levenshtein and diff scores show slight differences from reference responses.\n",
    "\n",
    "TFIDF advantages:\n",
    "  - Lower latency, making it more efficient for quicker response generation.\n",
    "\n",
    "Trade-offs:\n",
    "  - BM25 offers superior response quality at the cost of higher latency.\n",
    "  - TFIDF is faster but generally produces less accurate results.\n",
    "\n",
    "Choose based on your priority: response quality (BM25) or speed (TFIDF)."
   ]
  },
  {
   "cell_type": "markdown",
   "metadata": {},
   "source": [
    "# Key Takeaways\n",
    "\n",
    "1. Data Quality is Crucial: The effectiveness of a RAG system heavily depends on the quality of data ingestion and preprocessing. \"Garbage in, garbage out\" applies to LLMs as well.\n",
    "\n",
    "2. Accurate Tokenization: Using the correct tokenization strategy is essential for proper text processing and context management. The actual token count often differs significantly from simple word counts.\n",
    "\n",
    "3. Preprocessing Importance: Cleaning raw data by removing markdown elements, special characters, and extra whitespace is crucial for optimizing LLM input and improving retrieval accuracy.\n",
    "\n",
    "4. Semantic Chunking: This advanced chunking strategy groups similar sentences, preserving context and improving retrieval relevance compared to simpler methods like fixed-length splitting.\n",
    "\n",
    "5. Retrieval Method Comparison: Exploring alternative retrieval methods, such as BM25 vs. TF-IDF, can lead to significant improvements in RAG system performance.\n",
    "\n",
    "6. Evaluation is Key: Regularly evaluating both retrieval and response metrics is crucial for understanding the impact of changes and optimizing the RAG pipeline.\n",
    "\n",
    "7. Experimentation: The optimal approach for data preprocessing, chunking, and retrieval often depends on the specific use case. Experimentation is encouraged to find the best configuration for your RAG system.\n",
    "\n",
    "8. Scalability and Updates: When building a data ingestion pipeline, consider scalability and the ability to handle periodic updates as data sources change."
   ]
  },
  {
   "cell_type": "markdown",
   "metadata": {},
   "source": [
    "# Exercise\n",
    "\n",
    "1. Use a different chunking method. - Try your own parsing and chunking method.\n",
    "2. Use a small-to-big retrieval method. Where we embed small documents but retrieve big documents -> You can add the parent document to the metadata and modify the `Retriever.search` method."
   ]
  }
 ],
 "metadata": {
  "kernelspec": {
   "display_name": "rag-edu",
   "language": "python",
   "name": "python3"
  },
  "language_info": {
   "codemirror_mode": {
    "name": "ipython",
    "version": 3
   },
   "file_extension": ".py",
   "mimetype": "text/x-python",
   "name": "python",
   "nbconvert_exporter": "python",
   "pygments_lexer": "ipython3",
   "version": "3.12.4"
  }
 },
 "nbformat": 4,
 "nbformat_minor": 2
}
