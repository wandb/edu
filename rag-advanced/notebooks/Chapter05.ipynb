{
 "cells": [
  {
   "cell_type": "markdown",
   "metadata": {},
   "source": [
    "# Chapter 5\n",
    "\n",
    "<a target=\"_blank\" href=\"https://colab.research.google.com/github/wandb/edu/blob/rag-finance-workshop/rag-advanced/notebooks/Chapter05.ipynb\">\n",
    "  <img src=\"https://colab.research.google.com/assets/colab-badge.svg\" alt=\"Open In Colab\"/>\n",
    "</a>\n",
    "\n",
    "<!--- @wandbcode{rag-course-05} -->\n",
    "\n",
    "## Retrieval and Re-ranking\n",
    "\n",
    "In this chapter, we will focus on improving the retrieval quality and employ reranking to select the best context for our LLM.\n",
    "\n",
    "In the last chapter, we added Query Enhancement module which was able to derive sub-queries from the user query. We retrieved contexts for these sub-queries. We did a basic deduplication of the total context to reduce the same context. However on a semantic level there might be few more contexts that we can drop thus reducing the input token cost.\n",
    "\n",
    "When the same context is retrieved a few times, we can use this knowledge to fuse the confidence scores of such contexts and ask our LLM to focus more on them. Once can employ many strategies to improve the quality of contexts we provide our LLM.\n",
    "\n",
    "Let's see a few here."
   ]
  },
  {
   "cell_type": "code",
   "execution_count": null,
   "metadata": {},
   "outputs": [],
   "source": [
    "try:\n",
    "    import google.colab\n",
    "    IN_COLAB = True\n",
    "except ImportError:\n",
    "    IN_COLAB = False\n",
    "\n",
    "if IN_COLAB:\n",
    "    !git clone --branch rag-finance-workshop https://github.com/wandb/edu.git\n",
    "    %cd edu/rag-advanced\n",
    "    !pip install -qqq -r requirements.txt\n",
    "    %cd notebooks\n",
    "else:\n",
    "    print(\"Not running in Google Colab. Skipping git clone and pip install commands.\")"
   ]
  },
  {
   "cell_type": "code",
   "execution_count": null,
   "metadata": {},
   "outputs": [],
   "source": [
    "import nltk\n",
    "\n",
    "nltk.download(\"wordnet\")\n",
    "nltk.download(\"punkt\")"
   ]
  },
  {
   "cell_type": "code",
   "execution_count": null,
   "metadata": {},
   "outputs": [],
   "source": [
    "from set_env import set_env\n",
    "\n",
    "set_env(\"WANDB_API_KEY\")\n",
    "set_env(\"OPENAI_API_KEY\")\n",
    "set_env(\"COHERE_API_KEY\")\n",
    "print(\"API keys set\")"
   ]
  },
  {
   "cell_type": "code",
   "execution_count": null,
   "metadata": {},
   "outputs": [],
   "source": [
    "import asyncio\n",
    "\n",
    "import nest_asyncio\n",
    "\n",
    "nest_asyncio.apply()\n",
    "\n",
    "import weave"
   ]
  },
  {
   "cell_type": "code",
   "execution_count": null,
   "metadata": {},
   "outputs": [],
   "source": [
    "WANDB_PROJECT = \"rag-course-finance\"\n",
    "\n",
    "weave_client = weave.init(WANDB_PROJECT)"
   ]
  },
  {
   "cell_type": "markdown",
   "metadata": {},
   "source": [
    "We will download the chunked data from chapter 3"
   ]
  },
  {
   "cell_type": "code",
   "execution_count": null,
   "metadata": {},
   "outputs": [],
   "source": [
    "# Reload the data from Chapter 3\n",
    "chunked_data = weave.ref(\n",
    "    \"chunked_data:latest\"\n",
    ").get()\n",
    "# uncomment the next line to get the chunked data from weave from your own project instead\n",
    "# chunked_data = weave.ref(\"chunked_data:latest\").get()\n",
    "\n",
    "chunked_data.rows[:2]\n",
    "chunked_data = list(map(dict, chunked_data.rows[:]))"
   ]
  },
  {
   "cell_type": "markdown",
   "metadata": {},
   "source": [
    "## Embedding based retriever\n",
    "\n",
    "In the past chapters we were using TF-IDF and BM25 based retrievers. The vector representation from these methods are not \"dense\" i.e, they were not trained on billions or trillions of tokens. LLMs today embed the tokens into a dense representation. These embeddings are learned during the training process and are used to represent the tokens in the high-dimensional vector space. They have a denser knowledge of different lingustic patterns.\n",
    "\n",
    "One stratightforward way of improving our retriever is to use a `DenseRetriever` which uses the embedding model (Cohere embedding model here) to embed the chunks and uses the same embedding model to embed the query.\n",
    "\n",
    "## Reranking the contexts\n",
    "\n",
    "With more contexts it is important to pick the one that adds more knowledge about the given query. For this, a re-ranking model is used that calculates a matching score for a given query and document pair. This score can then be utilized to rearrange vector search results, ensuring that the most relevant results are prioritized at the top of the list. Cohere comes with it's own re-ranking model and is quite popular.\n"
   ]
  },
  {
   "cell_type": "code",
   "execution_count": null,
   "metadata": {},
   "outputs": [],
   "source": [
    "from scripts.reranker import LiteLLMReranker\n",
    "from scripts.retriever import DenseRetriever, DenseRetrieverWithReranker\n",
    "from scripts.utils import display_source\n",
    "\n",
    "display_source(DenseRetriever)\n",
    "display_source(LiteLLMReranker)\n",
    "display_source(DenseRetrieverWithReranker)"
   ]
  },
  {
   "cell_type": "markdown",
   "metadata": {},
   "source": [
    "Let's initialize the `DenseRetriever` and index the data."
   ]
  },
  {
   "cell_type": "code",
   "execution_count": null,
   "metadata": {},
   "outputs": [],
   "source": [
    "dense_retriever = DenseRetriever()\n",
    "dense_retriever.index_data(chunked_data)"
   ]
  },
  {
   "cell_type": "code",
   "execution_count": null,
   "metadata": {},
   "outputs": [],
   "source": [
    "from scripts.retrieval_metrics import IR_METRICS\n",
    "\n",
    "# eval_dataset = weave.ref(\n",
    "#     \"eval_data:latest\"\n",
    "# ).get()\n",
    "eval_dataset = weave.ref(\"weave:///a-sh0ts/rag-course-finance/object/eval_data:CoQDvdOENbZqkwg7IlhZm33drBCAf9OUNvf8ar6YHzM\").get()\n",
    "\n",
    "retrieval_evaluation = weave.Evaluation(\n",
    "    name=\"Dense Retrieval Evaluation\",\n",
    "    dataset=eval_dataset,\n",
    "    scorers=IR_METRICS,\n",
    "    preprocess_model_input=lambda x: {\"query\": x[\"question\"], \"k\": 10},\n",
    ")\n",
    "\n",
    "dense_retrieval_scores = asyncio.run(retrieval_evaluation.evaluate(dense_retriever))"
   ]
  },
  {
   "cell_type": "markdown",
   "metadata": {},
   "source": [
    "Let's initialize the `DenseRetrieverWithReranker` and index the data."
   ]
  },
  {
   "cell_type": "code",
   "execution_count": null,
   "metadata": {},
   "outputs": [],
   "source": [
    "dense_retriever_rerank = DenseRetrieverWithReranker()\n",
    "dense_retriever_rerank.index_data(chunked_data)"
   ]
  },
  {
   "cell_type": "code",
   "execution_count": null,
   "metadata": {},
   "outputs": [],
   "source": [
    "from scripts.retrieval_metrics import IR_METRICS\n",
    "\n",
    "# eval_dataset = weave.ref(\n",
    "#     \"eval_data:latest\"\n",
    "# ).get()\n",
    "eval_dataset = weave.ref(\"weave:///a-sh0ts/rag-course-finance/object/eval_data:CoQDvdOENbZqkwg7IlhZm33drBCAf9OUNvf8ar6YHzM\").get()\n",
    "\n",
    "retrieval_evaluation = weave.Evaluation(\n",
    "    name=\"Dense Retrieval Rerank Evaluation\",\n",
    "    dataset=eval_dataset,\n",
    "    scorers=IR_METRICS,\n",
    "    preprocess_model_input=lambda x: {\"query\": x[\"question\"], \"top_k\": 20, \"top_n\": 10},\n",
    ")\n",
    "\n",
    "dense_retrieval_scores = asyncio.run(\n",
    "    retrieval_evaluation.evaluate(dense_retriever_rerank)\n",
    ")"
   ]
  },
  {
   "cell_type": "markdown",
   "metadata": {},
   "source": [
    "## Hybrid Retriever\n",
    "\n",
    "Even though BM25 is an old model used for retrieval tasks, it is still the state-of-the-art on various benchmark. In machine learning, we ensemble a few weak classifiers to build a stronger classifier, we can adopt the same idea to our retriever pipeline.\n",
    "\n",
    "Below we show the concept of hybrid retriever which uses two or more retrievers and retrievr chunks from all of them followed by re-ranking.\n",
    "\n",
    "### Fusion reranking\n",
    "\n",
    "Since the indiviual retrievers are gonna retrieve the same chunks most of the time, simple re-ranking will not be beneficial since the same chunk from each retriever will have similar score, thus the top_k after re-ranking will have more or less the same context.\n",
    "\n",
    "Instead, we iterate through all the chunks and fuse the score of similar chunk. Finally we sort on the basis of this fused score and return top_k chunks."
   ]
  },
  {
   "cell_type": "code",
   "execution_count": null,
   "metadata": {},
   "outputs": [],
   "source": [
    "from scripts.retriever import HybridRetrieverReranker\n",
    "\n",
    "display_source(HybridRetrieverReranker)\n",
    "\n",
    "hybrid_retriever = HybridRetrieverReranker()"
   ]
  },
  {
   "cell_type": "code",
   "execution_count": null,
   "metadata": {},
   "outputs": [],
   "source": [
    "hybrid_retriever.index_data(chunked_data)"
   ]
  },
  {
   "cell_type": "code",
   "execution_count": null,
   "metadata": {},
   "outputs": [],
   "source": [
    "# eval_dataset = weave.ref(\n",
    "#     \"eval_data:latest\"\n",
    "# ).get()\n",
    "eval_dataset = weave.ref(\"weave:///a-sh0ts/rag-course-finance/object/eval_data:CoQDvdOENbZqkwg7IlhZm33drBCAf9OUNvf8ar6YHzM\").get()\n",
    "\n",
    "retrieval_evaluation = weave.Evaluation(\n",
    "    name=\"Dense Retrieval Rerank Evaluation\",\n",
    "    dataset=eval_dataset,\n",
    "    scorers=IR_METRICS,\n",
    "    preprocess_model_input=lambda x: {\"query\": x[\"question\"], \"top_k\": 20, \"top_n\": 10},\n",
    ")\n",
    "\n",
    "hybrid_retrieval_scores = asyncio.run(retrieval_evaluation.evaluate(hybrid_retriever))"
   ]
  }
 ],
 "metadata": {
  "kernelspec": {
   "display_name": "rag-edu",
   "language": "python",
   "name": "python3"
  },
  "language_info": {
   "codemirror_mode": {
    "name": "ipython",
    "version": 3
   },
   "file_extension": ".py",
   "mimetype": "text/x-python",
   "name": "python",
   "nbconvert_exporter": "python",
   "pygments_lexer": "ipython3",
   "version": "3.12.4"
  }
 },
 "nbformat": 4,
 "nbformat_minor": 2
}
